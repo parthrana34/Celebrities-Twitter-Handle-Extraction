{
 "cells": [
  {
   "cell_type": "code",
   "execution_count": 1,
   "metadata": {},
   "outputs": [],
   "source": [
    "def get_Twitter_handle(Name):\n",
    "    \n",
    "    import requests\n",
    "    \n",
    "    url = 'http://www.google.com/search?q='+Name+' official twitter account'\n",
    "        \n",
    "    temp = requests.get(url).text\n",
    "    for res in temp.split():\n",
    "        if '(@' in res:\n",
    "            user = res\n",
    "            break\n",
    "    user_name=user[2:-1]\n",
    "    \n",
    "    \n",
    "    if user_name.startswith('<'):\n",
    "        handle = user_name[3:-4]\n",
    "    else:\n",
    "        handle = user_name\n",
    "        \n",
    "    print(handle)"
   ]
  },
  {
   "cell_type": "code",
   "execution_count": 2,
   "metadata": {},
   "outputs": [
    {
     "name": "stdout",
     "output_type": "stream",
     "text": [
      "elonmusk\n"
     ]
    }
   ],
   "source": [
    "get_Twitter_handle('elon')"
   ]
  }
 ],
 "metadata": {
  "kernelspec": {
   "display_name": "Python 3",
   "language": "python",
   "name": "python3"
  },
  "language_info": {
   "codemirror_mode": {
    "name": "ipython",
    "version": 3
   },
   "file_extension": ".py",
   "mimetype": "text/x-python",
   "name": "python",
   "nbconvert_exporter": "python",
   "pygments_lexer": "ipython3",
   "version": "3.7.1"
  }
 },
 "nbformat": 4,
 "nbformat_minor": 2
}
